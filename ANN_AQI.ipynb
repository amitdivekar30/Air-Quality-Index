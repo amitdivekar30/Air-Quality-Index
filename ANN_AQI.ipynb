{
  "nbformat": 4,
  "nbformat_minor": 0,
  "metadata": {
    "colab": {
      "name": "ANN_AQI.ipynb",
      "provenance": [],
      "authorship_tag": "ABX9TyPq1qMw1OEY8hX0Abe8X43I",
      "include_colab_link": true
    },
    "kernelspec": {
      "name": "python3",
      "display_name": "Python 3"
    },
    "accelerator": "GPU"
  },
  "cells": [
    {
      "cell_type": "markdown",
      "metadata": {
        "id": "view-in-github",
        "colab_type": "text"
      },
      "source": [
        "<a href=\"https://colab.research.google.com/github/amitdivekar30/Air-Quality-Index/blob/main/ANN_AQI.ipynb\" target=\"_parent\"><img src=\"https://colab.research.google.com/assets/colab-badge.svg\" alt=\"Open In Colab\"/></a>"
      ]
    },
    {
      "cell_type": "code",
      "metadata": {
        "id": "3GfvudRuAN6V"
      },
      "source": [
        "import pandas as pd\n",
        "import numpy as np\n",
        "import matplotlib.pyplot as plt\n",
        "import seaborn as sns"
      ],
      "execution_count": 1,
      "outputs": []
    },
    {
      "cell_type": "code",
      "metadata": {
        "id": "5cy8o5PsAT90"
      },
      "source": [
        "df=pd.read_csv('https://raw.githubusercontent.com/amitdivekar30/Air-Quality-Index/main/Real_Combine.csv')\n"
      ],
      "execution_count": 2,
      "outputs": []
    },
    {
      "cell_type": "code",
      "metadata": {
        "id": "uXyr5uNOAs9Q",
        "outputId": "23724a80-82ac-4be5-ba6b-9d68d5cd27ab",
        "colab": {
          "base_uri": "https://localhost:8080/",
          "height": 204
        }
      },
      "source": [
        "df.head()"
      ],
      "execution_count": 3,
      "outputs": [
        {
          "output_type": "execute_result",
          "data": {
            "text/html": [
              "<div>\n",
              "<style scoped>\n",
              "    .dataframe tbody tr th:only-of-type {\n",
              "        vertical-align: middle;\n",
              "    }\n",
              "\n",
              "    .dataframe tbody tr th {\n",
              "        vertical-align: top;\n",
              "    }\n",
              "\n",
              "    .dataframe thead th {\n",
              "        text-align: right;\n",
              "    }\n",
              "</style>\n",
              "<table border=\"1\" class=\"dataframe\">\n",
              "  <thead>\n",
              "    <tr style=\"text-align: right;\">\n",
              "      <th></th>\n",
              "      <th>T</th>\n",
              "      <th>TM</th>\n",
              "      <th>Tm</th>\n",
              "      <th>SLP</th>\n",
              "      <th>H</th>\n",
              "      <th>VV</th>\n",
              "      <th>V</th>\n",
              "      <th>VM</th>\n",
              "      <th>PM 2.5</th>\n",
              "    </tr>\n",
              "  </thead>\n",
              "  <tbody>\n",
              "    <tr>\n",
              "      <th>0</th>\n",
              "      <td>7.4</td>\n",
              "      <td>9.8</td>\n",
              "      <td>4.8</td>\n",
              "      <td>1017.6</td>\n",
              "      <td>93.0</td>\n",
              "      <td>0.5</td>\n",
              "      <td>4.3</td>\n",
              "      <td>9.4</td>\n",
              "      <td>219.720833</td>\n",
              "    </tr>\n",
              "    <tr>\n",
              "      <th>1</th>\n",
              "      <td>7.8</td>\n",
              "      <td>12.7</td>\n",
              "      <td>4.4</td>\n",
              "      <td>1018.5</td>\n",
              "      <td>87.0</td>\n",
              "      <td>0.6</td>\n",
              "      <td>4.4</td>\n",
              "      <td>11.1</td>\n",
              "      <td>182.187500</td>\n",
              "    </tr>\n",
              "    <tr>\n",
              "      <th>2</th>\n",
              "      <td>6.7</td>\n",
              "      <td>13.4</td>\n",
              "      <td>2.4</td>\n",
              "      <td>1019.4</td>\n",
              "      <td>82.0</td>\n",
              "      <td>0.6</td>\n",
              "      <td>4.8</td>\n",
              "      <td>11.1</td>\n",
              "      <td>154.037500</td>\n",
              "    </tr>\n",
              "    <tr>\n",
              "      <th>3</th>\n",
              "      <td>8.6</td>\n",
              "      <td>15.5</td>\n",
              "      <td>3.3</td>\n",
              "      <td>1018.7</td>\n",
              "      <td>72.0</td>\n",
              "      <td>0.8</td>\n",
              "      <td>8.1</td>\n",
              "      <td>20.6</td>\n",
              "      <td>223.208333</td>\n",
              "    </tr>\n",
              "    <tr>\n",
              "      <th>4</th>\n",
              "      <td>12.4</td>\n",
              "      <td>20.9</td>\n",
              "      <td>4.4</td>\n",
              "      <td>1017.3</td>\n",
              "      <td>61.0</td>\n",
              "      <td>1.3</td>\n",
              "      <td>8.7</td>\n",
              "      <td>22.2</td>\n",
              "      <td>200.645833</td>\n",
              "    </tr>\n",
              "  </tbody>\n",
              "</table>\n",
              "</div>"
            ],
            "text/plain": [
              "      T    TM   Tm     SLP     H   VV    V    VM      PM 2.5\n",
              "0   7.4   9.8  4.8  1017.6  93.0  0.5  4.3   9.4  219.720833\n",
              "1   7.8  12.7  4.4  1018.5  87.0  0.6  4.4  11.1  182.187500\n",
              "2   6.7  13.4  2.4  1019.4  82.0  0.6  4.8  11.1  154.037500\n",
              "3   8.6  15.5  3.3  1018.7  72.0  0.8  8.1  20.6  223.208333\n",
              "4  12.4  20.9  4.4  1017.3  61.0  1.3  8.7  22.2  200.645833"
            ]
          },
          "metadata": {
            "tags": []
          },
          "execution_count": 3
        }
      ]
    },
    {
      "cell_type": "code",
      "metadata": {
        "id": "xOfZUjyQBekQ"
      },
      "source": [
        "X=df.iloc[:,:-1] ## independent features\n",
        "y=df.iloc[:,-1] ## dependent features"
      ],
      "execution_count": 7,
      "outputs": []
    },
    {
      "cell_type": "code",
      "metadata": {
        "id": "Qw_puK8xBXic"
      },
      "source": [
        "from sklearn.model_selection import train_test_split\n",
        "X_train, X_test, y_train, y_test = train_test_split(X, y, test_size=0.3, random_state=0)"
      ],
      "execution_count": 8,
      "outputs": []
    },
    {
      "cell_type": "code",
      "metadata": {
        "id": "4lUflIrIBAuN"
      },
      "source": [
        "# Importing the Keras libraries and packages\n",
        "import keras\n",
        "from keras.models import Sequential\n",
        "from keras.layers import Dense\n",
        "from keras.layers import LeakyReLU,PReLU,ELU\n",
        "from keras.layers import Dropout"
      ],
      "execution_count": 9,
      "outputs": []
    },
    {
      "cell_type": "code",
      "metadata": {
        "id": "HKcJklNbBMfv",
        "outputId": "4678198d-36f6-4c1f-ab08-380b2fd5b5d0",
        "colab": {
          "base_uri": "https://localhost:8080/",
          "height": 1000
        }
      },
      "source": [
        "NN_model = Sequential()\n",
        "\n",
        "# The Input Layer :\n",
        "NN_model.add(Dense(128, kernel_initializer='normal',input_dim = X_train.shape[1], activation='relu'))\n",
        "\n",
        "# The Hidden Layers :\n",
        "NN_model.add(Dense(256, kernel_initializer='normal',activation='relu'))\n",
        "NN_model.add(Dense(256, kernel_initializer='normal',activation='relu'))\n",
        "NN_model.add(Dense(256, kernel_initializer='normal',activation='relu'))\n",
        "\n",
        "# The Output Layer :\n",
        "NN_model.add(Dense(1, kernel_initializer='normal',activation='linear'))\n",
        "\n",
        "# Compile the network :\n",
        "NN_model.compile(loss='mean_absolute_error', optimizer='adam', metrics=['mean_absolute_error'])\n",
        "NN_model.summary()\n",
        "\n",
        "# Fitting the ANN to the Training set\n",
        "model_history=NN_model.fit(X_train, y_train,validation_split=0.33, batch_size = 10, epochs = 100)"
      ],
      "execution_count": 11,
      "outputs": [
        {
          "output_type": "stream",
          "text": [
            "Model: \"sequential_2\"\n",
            "_________________________________________________________________\n",
            "Layer (type)                 Output Shape              Param #   \n",
            "=================================================================\n",
            "dense_5 (Dense)              (None, 128)               1152      \n",
            "_________________________________________________________________\n",
            "dense_6 (Dense)              (None, 256)               33024     \n",
            "_________________________________________________________________\n",
            "dense_7 (Dense)              (None, 256)               65792     \n",
            "_________________________________________________________________\n",
            "dense_8 (Dense)              (None, 256)               65792     \n",
            "_________________________________________________________________\n",
            "dense_9 (Dense)              (None, 1)                 257       \n",
            "=================================================================\n",
            "Total params: 166,017\n",
            "Trainable params: 166,017\n",
            "Non-trainable params: 0\n",
            "_________________________________________________________________\n",
            "Epoch 1/100\n",
            "35/35 [==============================] - 0s 7ms/step - loss: 72.4418 - mean_absolute_error: 72.4418 - val_loss: nan - val_mean_absolute_error: nan\n",
            "Epoch 2/100\n",
            "35/35 [==============================] - 0s 3ms/step - loss: 67.5699 - mean_absolute_error: 67.5699 - val_loss: nan - val_mean_absolute_error: nan\n",
            "Epoch 3/100\n",
            "35/35 [==============================] - 0s 3ms/step - loss: 67.7839 - mean_absolute_error: 67.7839 - val_loss: nan - val_mean_absolute_error: nan\n",
            "Epoch 4/100\n",
            "35/35 [==============================] - 0s 3ms/step - loss: 66.0624 - mean_absolute_error: 66.0624 - val_loss: nan - val_mean_absolute_error: nan\n",
            "Epoch 5/100\n",
            "35/35 [==============================] - 0s 3ms/step - loss: 62.9101 - mean_absolute_error: 62.9101 - val_loss: nan - val_mean_absolute_error: nan\n",
            "Epoch 6/100\n",
            "35/35 [==============================] - 0s 3ms/step - loss: 56.0858 - mean_absolute_error: 56.0858 - val_loss: nan - val_mean_absolute_error: nan\n",
            "Epoch 7/100\n",
            "35/35 [==============================] - 0s 3ms/step - loss: 51.4437 - mean_absolute_error: 51.4437 - val_loss: nan - val_mean_absolute_error: nan\n",
            "Epoch 8/100\n",
            "35/35 [==============================] - 0s 3ms/step - loss: 53.8745 - mean_absolute_error: 53.8745 - val_loss: nan - val_mean_absolute_error: nan\n",
            "Epoch 9/100\n",
            "35/35 [==============================] - 0s 3ms/step - loss: 48.8862 - mean_absolute_error: 48.8862 - val_loss: nan - val_mean_absolute_error: nan\n",
            "Epoch 10/100\n",
            "35/35 [==============================] - 0s 3ms/step - loss: 46.4626 - mean_absolute_error: 46.4626 - val_loss: nan - val_mean_absolute_error: nan\n",
            "Epoch 11/100\n",
            "35/35 [==============================] - 0s 3ms/step - loss: 44.4298 - mean_absolute_error: 44.4298 - val_loss: nan - val_mean_absolute_error: nan\n",
            "Epoch 12/100\n",
            "35/35 [==============================] - 0s 3ms/step - loss: 44.1045 - mean_absolute_error: 44.1045 - val_loss: nan - val_mean_absolute_error: nan\n",
            "Epoch 13/100\n",
            "35/35 [==============================] - 0s 3ms/step - loss: 42.7228 - mean_absolute_error: 42.7228 - val_loss: nan - val_mean_absolute_error: nan\n",
            "Epoch 14/100\n",
            "35/35 [==============================] - 0s 3ms/step - loss: 45.1487 - mean_absolute_error: 45.1487 - val_loss: nan - val_mean_absolute_error: nan\n",
            "Epoch 15/100\n",
            "35/35 [==============================] - 0s 3ms/step - loss: 43.3887 - mean_absolute_error: 43.3887 - val_loss: nan - val_mean_absolute_error: nan\n",
            "Epoch 16/100\n",
            "35/35 [==============================] - 0s 3ms/step - loss: 43.3777 - mean_absolute_error: 43.3777 - val_loss: nan - val_mean_absolute_error: nan\n",
            "Epoch 17/100\n",
            "35/35 [==============================] - 0s 3ms/step - loss: 42.7402 - mean_absolute_error: 42.7402 - val_loss: nan - val_mean_absolute_error: nan\n",
            "Epoch 18/100\n",
            "35/35 [==============================] - 0s 3ms/step - loss: 47.9721 - mean_absolute_error: 47.9721 - val_loss: nan - val_mean_absolute_error: nan\n",
            "Epoch 19/100\n",
            "35/35 [==============================] - 0s 3ms/step - loss: 42.0741 - mean_absolute_error: 42.0741 - val_loss: nan - val_mean_absolute_error: nan\n",
            "Epoch 20/100\n",
            "35/35 [==============================] - 0s 3ms/step - loss: 41.8803 - mean_absolute_error: 41.8803 - val_loss: nan - val_mean_absolute_error: nan\n",
            "Epoch 21/100\n",
            "35/35 [==============================] - 0s 3ms/step - loss: 44.9618 - mean_absolute_error: 44.9618 - val_loss: nan - val_mean_absolute_error: nan\n",
            "Epoch 22/100\n",
            "35/35 [==============================] - 0s 3ms/step - loss: 43.3287 - mean_absolute_error: 43.3287 - val_loss: nan - val_mean_absolute_error: nan\n",
            "Epoch 23/100\n",
            "35/35 [==============================] - 0s 4ms/step - loss: 43.7223 - mean_absolute_error: 43.7223 - val_loss: nan - val_mean_absolute_error: nan\n",
            "Epoch 24/100\n",
            "35/35 [==============================] - 0s 3ms/step - loss: 46.2215 - mean_absolute_error: 46.2215 - val_loss: nan - val_mean_absolute_error: nan\n",
            "Epoch 25/100\n",
            "35/35 [==============================] - 0s 3ms/step - loss: 44.5848 - mean_absolute_error: 44.5848 - val_loss: nan - val_mean_absolute_error: nan\n",
            "Epoch 26/100\n",
            "35/35 [==============================] - 0s 3ms/step - loss: 43.3439 - mean_absolute_error: 43.3439 - val_loss: nan - val_mean_absolute_error: nan\n",
            "Epoch 27/100\n",
            "35/35 [==============================] - 0s 3ms/step - loss: 42.8365 - mean_absolute_error: 42.8365 - val_loss: nan - val_mean_absolute_error: nan\n",
            "Epoch 28/100\n",
            "35/35 [==============================] - 0s 3ms/step - loss: 40.4558 - mean_absolute_error: 40.4558 - val_loss: nan - val_mean_absolute_error: nan\n",
            "Epoch 29/100\n",
            "35/35 [==============================] - 0s 3ms/step - loss: 41.7637 - mean_absolute_error: 41.7637 - val_loss: nan - val_mean_absolute_error: nan\n",
            "Epoch 30/100\n",
            "35/35 [==============================] - 0s 3ms/step - loss: 42.4725 - mean_absolute_error: 42.4725 - val_loss: nan - val_mean_absolute_error: nan\n",
            "Epoch 31/100\n",
            "35/35 [==============================] - 0s 3ms/step - loss: 40.7234 - mean_absolute_error: 40.7234 - val_loss: nan - val_mean_absolute_error: nan\n",
            "Epoch 32/100\n",
            "35/35 [==============================] - 0s 3ms/step - loss: 41.9073 - mean_absolute_error: 41.9073 - val_loss: nan - val_mean_absolute_error: nan\n",
            "Epoch 33/100\n",
            "35/35 [==============================] - 0s 3ms/step - loss: 42.3846 - mean_absolute_error: 42.3846 - val_loss: nan - val_mean_absolute_error: nan\n",
            "Epoch 34/100\n",
            "35/35 [==============================] - 0s 3ms/step - loss: 40.6399 - mean_absolute_error: 40.6399 - val_loss: nan - val_mean_absolute_error: nan\n",
            "Epoch 35/100\n",
            "35/35 [==============================] - 0s 3ms/step - loss: 41.4895 - mean_absolute_error: 41.4895 - val_loss: nan - val_mean_absolute_error: nan\n",
            "Epoch 36/100\n",
            "35/35 [==============================] - 0s 3ms/step - loss: 43.1173 - mean_absolute_error: 43.1173 - val_loss: nan - val_mean_absolute_error: nan\n",
            "Epoch 37/100\n",
            "35/35 [==============================] - 0s 3ms/step - loss: 45.1667 - mean_absolute_error: 45.1667 - val_loss: nan - val_mean_absolute_error: nan\n",
            "Epoch 38/100\n",
            "35/35 [==============================] - 0s 3ms/step - loss: 40.7662 - mean_absolute_error: 40.7662 - val_loss: nan - val_mean_absolute_error: nan\n",
            "Epoch 39/100\n",
            "35/35 [==============================] - 0s 3ms/step - loss: 41.4909 - mean_absolute_error: 41.4909 - val_loss: nan - val_mean_absolute_error: nan\n",
            "Epoch 40/100\n",
            "35/35 [==============================] - 0s 4ms/step - loss: 40.3351 - mean_absolute_error: 40.3351 - val_loss: nan - val_mean_absolute_error: nan\n",
            "Epoch 41/100\n",
            "35/35 [==============================] - 0s 3ms/step - loss: 40.1754 - mean_absolute_error: 40.1754 - val_loss: nan - val_mean_absolute_error: nan\n",
            "Epoch 42/100\n",
            "35/35 [==============================] - 0s 3ms/step - loss: 41.0033 - mean_absolute_error: 41.0033 - val_loss: nan - val_mean_absolute_error: nan\n",
            "Epoch 43/100\n",
            "35/35 [==============================] - 0s 3ms/step - loss: 40.4334 - mean_absolute_error: 40.4334 - val_loss: nan - val_mean_absolute_error: nan\n",
            "Epoch 44/100\n",
            "35/35 [==============================] - 0s 3ms/step - loss: 41.4032 - mean_absolute_error: 41.4032 - val_loss: nan - val_mean_absolute_error: nan\n",
            "Epoch 45/100\n",
            "35/35 [==============================] - 0s 3ms/step - loss: 39.9322 - mean_absolute_error: 39.9322 - val_loss: nan - val_mean_absolute_error: nan\n",
            "Epoch 46/100\n",
            "35/35 [==============================] - 0s 3ms/step - loss: 40.2743 - mean_absolute_error: 40.2743 - val_loss: nan - val_mean_absolute_error: nan\n",
            "Epoch 47/100\n",
            "35/35 [==============================] - 0s 3ms/step - loss: 43.4669 - mean_absolute_error: 43.4669 - val_loss: nan - val_mean_absolute_error: nan\n",
            "Epoch 48/100\n",
            "35/35 [==============================] - 0s 4ms/step - loss: 42.2030 - mean_absolute_error: 42.2030 - val_loss: nan - val_mean_absolute_error: nan\n",
            "Epoch 49/100\n",
            "35/35 [==============================] - 0s 3ms/step - loss: 41.5416 - mean_absolute_error: 41.5416 - val_loss: nan - val_mean_absolute_error: nan\n",
            "Epoch 50/100\n",
            "35/35 [==============================] - 0s 3ms/step - loss: 40.7646 - mean_absolute_error: 40.7646 - val_loss: nan - val_mean_absolute_error: nan\n",
            "Epoch 51/100\n",
            "35/35 [==============================] - 0s 3ms/step - loss: 40.3785 - mean_absolute_error: 40.3785 - val_loss: nan - val_mean_absolute_error: nan\n",
            "Epoch 52/100\n",
            "35/35 [==============================] - 0s 3ms/step - loss: 44.0991 - mean_absolute_error: 44.0991 - val_loss: nan - val_mean_absolute_error: nan\n",
            "Epoch 53/100\n",
            "35/35 [==============================] - 0s 3ms/step - loss: 39.8701 - mean_absolute_error: 39.8701 - val_loss: nan - val_mean_absolute_error: nan\n",
            "Epoch 54/100\n",
            "35/35 [==============================] - 0s 3ms/step - loss: 41.9485 - mean_absolute_error: 41.9485 - val_loss: nan - val_mean_absolute_error: nan\n",
            "Epoch 55/100\n",
            "35/35 [==============================] - 0s 3ms/step - loss: 39.6981 - mean_absolute_error: 39.6981 - val_loss: nan - val_mean_absolute_error: nan\n",
            "Epoch 56/100\n",
            "35/35 [==============================] - 0s 4ms/step - loss: 41.4991 - mean_absolute_error: 41.4991 - val_loss: nan - val_mean_absolute_error: nan\n",
            "Epoch 57/100\n",
            "35/35 [==============================] - 0s 3ms/step - loss: 39.7394 - mean_absolute_error: 39.7394 - val_loss: nan - val_mean_absolute_error: nan\n",
            "Epoch 58/100\n",
            "35/35 [==============================] - 0s 3ms/step - loss: 38.9511 - mean_absolute_error: 38.9511 - val_loss: nan - val_mean_absolute_error: nan\n",
            "Epoch 59/100\n",
            "35/35 [==============================] - 0s 3ms/step - loss: 40.2503 - mean_absolute_error: 40.2503 - val_loss: nan - val_mean_absolute_error: nan\n",
            "Epoch 60/100\n",
            "35/35 [==============================] - 0s 3ms/step - loss: 39.4174 - mean_absolute_error: 39.4174 - val_loss: nan - val_mean_absolute_error: nan\n",
            "Epoch 61/100\n",
            "35/35 [==============================] - 0s 3ms/step - loss: 38.9311 - mean_absolute_error: 38.9311 - val_loss: nan - val_mean_absolute_error: nan\n",
            "Epoch 62/100\n",
            "35/35 [==============================] - 0s 3ms/step - loss: 40.6749 - mean_absolute_error: 40.6749 - val_loss: nan - val_mean_absolute_error: nan\n",
            "Epoch 63/100\n",
            "35/35 [==============================] - 0s 3ms/step - loss: 38.7444 - mean_absolute_error: 38.7444 - val_loss: nan - val_mean_absolute_error: nan\n",
            "Epoch 64/100\n",
            "35/35 [==============================] - 0s 3ms/step - loss: 39.6841 - mean_absolute_error: 39.6841 - val_loss: nan - val_mean_absolute_error: nan\n",
            "Epoch 65/100\n",
            "35/35 [==============================] - 0s 3ms/step - loss: 40.3253 - mean_absolute_error: 40.3253 - val_loss: nan - val_mean_absolute_error: nan\n",
            "Epoch 66/100\n",
            "35/35 [==============================] - 0s 3ms/step - loss: 41.5589 - mean_absolute_error: 41.5589 - val_loss: nan - val_mean_absolute_error: nan\n",
            "Epoch 67/100\n",
            "35/35 [==============================] - 0s 3ms/step - loss: 39.4815 - mean_absolute_error: 39.4815 - val_loss: nan - val_mean_absolute_error: nan\n",
            "Epoch 68/100\n",
            "35/35 [==============================] - 0s 3ms/step - loss: 41.0822 - mean_absolute_error: 41.0822 - val_loss: nan - val_mean_absolute_error: nan\n",
            "Epoch 69/100\n",
            "35/35 [==============================] - 0s 4ms/step - loss: 38.9904 - mean_absolute_error: 38.9904 - val_loss: nan - val_mean_absolute_error: nan\n",
            "Epoch 70/100\n",
            "35/35 [==============================] - 0s 3ms/step - loss: 40.9732 - mean_absolute_error: 40.9732 - val_loss: nan - val_mean_absolute_error: nan\n",
            "Epoch 71/100\n",
            "35/35 [==============================] - 0s 3ms/step - loss: 42.0339 - mean_absolute_error: 42.0339 - val_loss: nan - val_mean_absolute_error: nan\n",
            "Epoch 72/100\n",
            "35/35 [==============================] - 0s 3ms/step - loss: 42.0065 - mean_absolute_error: 42.0065 - val_loss: nan - val_mean_absolute_error: nan\n",
            "Epoch 73/100\n",
            "35/35 [==============================] - 0s 3ms/step - loss: 39.9345 - mean_absolute_error: 39.9345 - val_loss: nan - val_mean_absolute_error: nan\n",
            "Epoch 74/100\n",
            "35/35 [==============================] - 0s 3ms/step - loss: 38.9386 - mean_absolute_error: 38.9386 - val_loss: nan - val_mean_absolute_error: nan\n",
            "Epoch 75/100\n",
            "35/35 [==============================] - 0s 3ms/step - loss: 39.1500 - mean_absolute_error: 39.1500 - val_loss: nan - val_mean_absolute_error: nan\n",
            "Epoch 76/100\n",
            "35/35 [==============================] - 0s 3ms/step - loss: 39.8240 - mean_absolute_error: 39.8240 - val_loss: nan - val_mean_absolute_error: nan\n",
            "Epoch 77/100\n",
            "35/35 [==============================] - 0s 3ms/step - loss: 43.7827 - mean_absolute_error: 43.7827 - val_loss: nan - val_mean_absolute_error: nan\n",
            "Epoch 78/100\n",
            "35/35 [==============================] - 0s 4ms/step - loss: 40.7148 - mean_absolute_error: 40.7148 - val_loss: nan - val_mean_absolute_error: nan\n",
            "Epoch 79/100\n",
            "35/35 [==============================] - 0s 3ms/step - loss: 40.5461 - mean_absolute_error: 40.5461 - val_loss: nan - val_mean_absolute_error: nan\n",
            "Epoch 80/100\n",
            "35/35 [==============================] - 0s 3ms/step - loss: 39.8267 - mean_absolute_error: 39.8267 - val_loss: nan - val_mean_absolute_error: nan\n",
            "Epoch 81/100\n",
            "35/35 [==============================] - 0s 3ms/step - loss: 39.5147 - mean_absolute_error: 39.5147 - val_loss: nan - val_mean_absolute_error: nan\n",
            "Epoch 82/100\n",
            "35/35 [==============================] - 0s 3ms/step - loss: 39.3331 - mean_absolute_error: 39.3331 - val_loss: nan - val_mean_absolute_error: nan\n",
            "Epoch 83/100\n",
            "35/35 [==============================] - 0s 3ms/step - loss: 39.3076 - mean_absolute_error: 39.3076 - val_loss: nan - val_mean_absolute_error: nan\n",
            "Epoch 84/100\n",
            "35/35 [==============================] - 0s 3ms/step - loss: 39.4377 - mean_absolute_error: 39.4377 - val_loss: nan - val_mean_absolute_error: nan\n",
            "Epoch 85/100\n",
            "35/35 [==============================] - 0s 3ms/step - loss: 39.7428 - mean_absolute_error: 39.7428 - val_loss: nan - val_mean_absolute_error: nan\n",
            "Epoch 86/100\n",
            "35/35 [==============================] - 0s 3ms/step - loss: 39.3009 - mean_absolute_error: 39.3009 - val_loss: nan - val_mean_absolute_error: nan\n",
            "Epoch 87/100\n",
            "35/35 [==============================] - 0s 3ms/step - loss: 39.7622 - mean_absolute_error: 39.7622 - val_loss: nan - val_mean_absolute_error: nan\n",
            "Epoch 88/100\n",
            "35/35 [==============================] - 0s 4ms/step - loss: 39.0320 - mean_absolute_error: 39.0320 - val_loss: nan - val_mean_absolute_error: nan\n",
            "Epoch 89/100\n",
            "35/35 [==============================] - 0s 3ms/step - loss: 39.1794 - mean_absolute_error: 39.1794 - val_loss: nan - val_mean_absolute_error: nan\n",
            "Epoch 90/100\n",
            "35/35 [==============================] - 0s 3ms/step - loss: 39.8257 - mean_absolute_error: 39.8257 - val_loss: nan - val_mean_absolute_error: nan\n",
            "Epoch 91/100\n",
            "35/35 [==============================] - 0s 3ms/step - loss: 39.4654 - mean_absolute_error: 39.4654 - val_loss: nan - val_mean_absolute_error: nan\n",
            "Epoch 92/100\n",
            "35/35 [==============================] - 0s 3ms/step - loss: 40.4002 - mean_absolute_error: 40.4002 - val_loss: nan - val_mean_absolute_error: nan\n",
            "Epoch 93/100\n",
            "35/35 [==============================] - 0s 3ms/step - loss: 40.3503 - mean_absolute_error: 40.3503 - val_loss: nan - val_mean_absolute_error: nan\n",
            "Epoch 94/100\n",
            "35/35 [==============================] - 0s 3ms/step - loss: 40.6554 - mean_absolute_error: 40.6554 - val_loss: nan - val_mean_absolute_error: nan\n",
            "Epoch 95/100\n",
            "35/35 [==============================] - 0s 3ms/step - loss: 39.8707 - mean_absolute_error: 39.8707 - val_loss: nan - val_mean_absolute_error: nan\n",
            "Epoch 96/100\n",
            "35/35 [==============================] - 0s 3ms/step - loss: 39.7221 - mean_absolute_error: 39.7221 - val_loss: nan - val_mean_absolute_error: nan\n",
            "Epoch 97/100\n",
            "35/35 [==============================] - 0s 3ms/step - loss: 38.1427 - mean_absolute_error: 38.1427 - val_loss: nan - val_mean_absolute_error: nan\n",
            "Epoch 98/100\n",
            "35/35 [==============================] - 0s 3ms/step - loss: 38.2507 - mean_absolute_error: 38.2507 - val_loss: nan - val_mean_absolute_error: nan\n",
            "Epoch 99/100\n",
            "35/35 [==============================] - 0s 3ms/step - loss: 38.8116 - mean_absolute_error: 38.8116 - val_loss: nan - val_mean_absolute_error: nan\n",
            "Epoch 100/100\n",
            "35/35 [==============================] - 0s 3ms/step - loss: 40.5654 - mean_absolute_error: 40.5654 - val_loss: nan - val_mean_absolute_error: nan\n"
          ],
          "name": "stdout"
        }
      ]
    },
    {
      "cell_type": "code",
      "metadata": {
        "id": "_xKXYJooCQ2j"
      },
      "source": [
        "prediction=NN_model.predict(X_test)"
      ],
      "execution_count": 12,
      "outputs": []
    },
    {
      "cell_type": "code",
      "metadata": {
        "id": "49KMVefvBS4e",
        "outputId": "04260810-6d88-4be5-bd2c-4d8533c88449",
        "colab": {
          "base_uri": "https://localhost:8080/",
          "height": 221
        }
      },
      "source": [
        "y_test"
      ],
      "execution_count": 13,
      "outputs": [
        {
          "output_type": "execute_result",
          "data": {
            "text/plain": [
              "196    202.916667\n",
              "187    229.166667\n",
              "14     319.737500\n",
              "31       1.916667\n",
              "390    120.208333\n",
              "          ...    \n",
              "391    137.125000\n",
              "571    103.000000\n",
              "306     43.041667\n",
              "200    322.250000\n",
              "235     47.041667\n",
              "Name: PM 2.5, Length: 220, dtype: float64"
            ]
          },
          "metadata": {
            "tags": []
          },
          "execution_count": 13
        }
      ]
    },
    {
      "cell_type": "code",
      "metadata": {
        "id": "Zo1a3GCaCXug",
        "outputId": "762ba9c7-7344-46d1-afa9-ab7b069882ca",
        "colab": {
          "base_uri": "https://localhost:8080/",
          "height": 336
        }
      },
      "source": [
        "sns.distplot(y_test.values.reshape(-1,1)-prediction)"
      ],
      "execution_count": 14,
      "outputs": [
        {
          "output_type": "stream",
          "text": [
            "/usr/local/lib/python3.6/dist-packages/seaborn/distributions.py:2551: FutureWarning: `distplot` is a deprecated function and will be removed in a future version. Please adapt your code to use either `displot` (a figure-level function with similar flexibility) or `histplot` (an axes-level function for histograms).\n",
            "  warnings.warn(msg, FutureWarning)\n"
          ],
          "name": "stderr"
        },
        {
          "output_type": "execute_result",
          "data": {
            "text/plain": [
              "<matplotlib.axes._subplots.AxesSubplot at 0x7f274e45f630>"
            ]
          },
          "metadata": {
            "tags": []
          },
          "execution_count": 14
        },
        {
          "output_type": "display_data",
          "data": {
            "image/png": "[encoded data removed]",
            "text/plain": [
              "<Figure size 432x288 with 1 Axes>"
            ]
          },
          "metadata": {
            "tags": [],
            "needs_background": "light"
          }
        }
      ]
    },
    {
      "cell_type": "code",
      "metadata": {
        "id": "bUMTn6jrCfap",
        "outputId": "5a41b131-f083-4926-b498-389712ed9b2a",
        "colab": {
          "base_uri": "https://localhost:8080/",
          "height": 282
        }
      },
      "source": [
        "plt.scatter(y_test,prediction)"
      ],
      "execution_count": 15,
      "outputs": [
        {
          "output_type": "execute_result",
          "data": {
            "text/plain": [
              "<matplotlib.collections.PathCollection at 0x7f274e04b400>"
            ]
          },
          "metadata": {
            "tags": []
          },
          "execution_count": 15
        },
        {
          "output_type": "display_data",
          "data": {
            "image/png": "[encoded data removed]",
            "text/plain": [
              "<Figure size 432x288 with 1 Axes>"
            ]
          },
          "metadata": {
            "tags": [],
            "needs_background": "light"
          }
        }
      ]
    },
    {
      "cell_type": "code",
      "metadata": {
        "id": "OUPK6Gb5ChJ5",
        "outputId": "65bb245b-2037-42ad-d368-1e76d424d2f7",
        "colab": {
          "base_uri": "https://localhost:8080/",
          "height": 68
        }
      },
      "source": [
        "from sklearn import metrics\n",
        "print('MAE:', metrics.mean_absolute_error(y_test, prediction))\n",
        "print('MSE:', metrics.mean_squared_error(y_test, prediction))\n",
        "print('RMSE:', np.sqrt(metrics.mean_squared_error(y_test, prediction)))"
      ],
      "execution_count": 16,
      "outputs": [
        {
          "output_type": "stream",
          "text": [
            "MAE: 37.471672753998725\n",
            "MSE: 3147.671861062529\n",
            "RMSE: 56.104116257744664\n"
          ],
          "name": "stdout"
        }
      ]
    }
  ]
}